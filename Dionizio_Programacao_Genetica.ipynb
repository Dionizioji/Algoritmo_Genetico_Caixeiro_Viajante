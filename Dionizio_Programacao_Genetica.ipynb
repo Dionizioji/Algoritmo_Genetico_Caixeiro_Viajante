{
 "cells": [
  {
   "cell_type": "markdown",
   "metadata": {},
   "source": [
    "###### A ideia aqui é apresentar uma proposta de resolução de um problema de otimização, especificamente para a busca em grafo, tomando como  exemplo o problema do caixeiro viajante.\n",
    "###### Esse tema é amplamente abordado em problemas de logística por se tratar da tentativa de se obter a melhor solução para minimizar a distância de uma rota, esta que passa por vários pontos, dado que este ponto inicial também é o ponto final. O que torna a situação\n",
    "###### muito importante no mundo real para casos que envolvam entregas ou deslocamento de pessoas (correios, delivery, transporte em geral).  \n",
    "\n"
   ]
  },
  {
   "cell_type": "markdown",
   "metadata": {},
   "source": [
    "##### Para o problema vamos considerar que cada cidade só pode ser visitada uma única vez e que todas se comunicam diretamente entre si."
   ]
  },
  {
   "cell_type": "markdown",
   "metadata": {},
   "source": [
    "###### Primeiramente vamos importar as bibliotecas e métodos necessários"
   ]
  },
  {
   "cell_type": "code",
   "execution_count": 1,
   "metadata": {},
   "outputs": [],
   "source": [
    "import random\n",
    "import numpy as np \n",
    "from deap import algorithms, base, creator, tools"
   ]
  },
  {
   "cell_type": "markdown",
   "metadata": {},
   "source": [
    "###### Definindo as cidades, suas localizações no plano e colocando cada combinação das cidadees numa matriz\n",
    "###### para facilitar os cálculos das distências "
   ]
  },
  {
   "cell_type": "code",
   "execution_count": 2,
   "metadata": {},
   "outputs": [],
   "source": [
    "cities = {\n",
    "    0 : (0, 0),\n",
    "    1: (1, 5),\n",
    "    2: (5, 2),\n",
    "    3: (3, 6),\n",
    "    4: (8, 3),\n",
    "    5: (10, 10),\n",
    "    6: (12, 6),\n",
    "    7: (9, 0)\n",
    "}\n",
    "\n",
    "num_cities = len(cities)\n",
    "distances = np.zeros((num_cities, num_cities))"
   ]
  },
  {
   "cell_type": "markdown",
   "metadata": {},
   "source": [
    "###### Calculando as distâncias entre cada par de cidades na matriz distances"
   ]
  },
  {
   "cell_type": "code",
   "execution_count": 3,
   "metadata": {},
   "outputs": [],
   "source": [
    "for i in range(num_cities):\n",
    "    for j in range(num_cities):\n",
    "        x1, y1 = cities[i]\n",
    "        x2, y2 = cities[j]\n",
    "        distances[i][j] = np.sqrt((x2 - x1)**2 + (y2 - y1)**2)"
   ]
  },
  {
   "cell_type": "markdown",
   "metadata": {},
   "source": [
    "###### Definindo uma função para a criação dos indivíduos"
   ]
  },
  {
   "cell_type": "code",
   "execution_count": 4,
   "metadata": {},
   "outputs": [],
   "source": [
    "def create_individual():\n",
    "    individual = list(cities.keys())\n",
    "    random.shuffle(individual)\n",
    "    return individual"
   ]
  },
  {
   "cell_type": "markdown",
   "metadata": {},
   "source": [
    "###### A função abaixo recebe cada indivíduo criado e calcula as distâncias entre as cidades"
   ]
  },
  {
   "cell_type": "code",
   "execution_count": 5,
   "metadata": {},
   "outputs": [],
   "source": [
    "def evaluate_individual(individual):\n",
    "    distance = 0\n",
    "    for i in range(num_cities - 1):\n",
    "        city_idx1 = individual[i]\n",
    "        city_idx2 = individual[i + 1]\n",
    "        distance += distances[city_idx1][city_idx2]\n",
    "    return distance,"
   ]
  },
  {
   "cell_type": "markdown",
   "metadata": {},
   "source": [
    "###### Abaixo definimos os tipos e a função de aptidão"
   ]
  },
  {
   "cell_type": "code",
   "execution_count": 6,
   "metadata": {},
   "outputs": [],
   "source": [
    "creator.create(\"FitnessMin\", base.Fitness, weights=(-1.0,))\n",
    "creator.create(\"Individual\", list, fitness=creator.FitnessMin)"
   ]
  },
  {
   "cell_type": "markdown",
   "metadata": {},
   "source": [
    "###### Definindo as toolboxes "
   ]
  },
  {
   "cell_type": "code",
   "execution_count": 7,
   "metadata": {},
   "outputs": [],
   "source": [
    "toolbox = base.Toolbox()\n",
    "toolbox.register(\"individual\", tools.initIterate, creator.Individual, create_individual)\n",
    "toolbox.register(\"population\", tools.initRepeat, list, toolbox.individual)\n",
    "toolbox.register(\"evaluate\", evaluate_individual)\n",
    "toolbox.register(\"mate\", tools.cxPartialyMatched)\n",
    "toolbox.register(\"mutate\", tools.mutShuffleIndexes, indpb=0.05)\n",
    "toolbox.register(\"select\", tools.selTournament, tournsize=3)\n"
   ]
  },
  {
   "cell_type": "markdown",
   "metadata": {},
   "source": [
    "###### Definindo os parâmetros da população"
   ]
  },
  {
   "cell_type": "code",
   "execution_count": 8,
   "metadata": {},
   "outputs": [],
   "source": [
    "population_size = 100\n",
    "num_generations = 100\n",
    "cx_prob = 0.8\n",
    "mut_prob = 0.2"
   ]
  },
  {
   "cell_type": "markdown",
   "metadata": {},
   "source": [
    "###### Criando a população inicial"
   ]
  },
  {
   "cell_type": "code",
   "execution_count": 9,
   "metadata": {},
   "outputs": [],
   "source": [
    "population = toolbox.population(n=population_size)"
   ]
  },
  {
   "cell_type": "markdown",
   "metadata": {},
   "source": [
    "###### Execução do algorítmo genético "
   ]
  },
  {
   "cell_type": "code",
   "execution_count": 10,
   "metadata": {},
   "outputs": [],
   "source": [
    "for generation in range(num_generations):\n",
    "    offspring = algorithms.varAnd(population, toolbox, cxpb=cx_prob, mutpb=mut_prob)\n",
    "    fitnesses = toolbox.map(toolbox.evaluate, offspring)\n",
    "    for ind, fit in zip(offspring, fitnesses):\n",
    "        ind.fitness.values = fit\n",
    "    population = toolbox.select(offspring, k=len(population))"
   ]
  },
  {
   "cell_type": "markdown",
   "metadata": {},
   "source": [
    "###### Obtendo a melhor solução encontrada "
   ]
  },
  {
   "cell_type": "code",
   "execution_count": 11,
   "metadata": {},
   "outputs": [
    {
     "name": "stdout",
     "output_type": "stream",
     "text": [
      "Melhor solução encontrada:  [0, 1, 3, 2, 7, 4, 6, 5]\n",
      "Distância mínima percorrida:  28.91\n"
     ]
    }
   ],
   "source": [
    "best_solution = tools.selBest(population, k=1)[0]\n",
    "best_distance = evaluate_individual(best_solution)[0]\n",
    "print(\"Melhor solução encontrada: \", best_solution)\n",
    "print(\"Distância mínima percorrida: \", best_distance.round(2))"
   ]
  }
 ],
 "metadata": {
  "kernelspec": {
   "display_name": "Python 3",
   "language": "python",
   "name": "python3"
  },
  "language_info": {
   "codemirror_mode": {
    "name": "ipython",
    "version": 3
   },
   "file_extension": ".py",
   "mimetype": "text/x-python",
   "name": "python",
   "nbconvert_exporter": "python",
   "pygments_lexer": "ipython3",
   "version": "3.11.3"
  },
  "orig_nbformat": 4
 },
 "nbformat": 4,
 "nbformat_minor": 2
}
